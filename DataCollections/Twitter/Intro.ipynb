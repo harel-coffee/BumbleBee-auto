{
 "cells": [
  {
   "cell_type": "markdown",
   "metadata": {},
   "source": [
    "# Requirments"
   ]
  },
  {
   "cell_type": "markdown",
   "metadata": {},
   "source": [
    "## Before start collecting install these packages\n",
    "\n",
    "pip install tweepy\n",
    "\n",
    "https://dataset.readthedocs.io/en/latest/quickstart.html\n",
    "\n",
    "pip install dataset\n",
    "\n",
    "pip install pandas"
   ]
  },
  {
   "cell_type": "code",
   "execution_count": 1,
   "metadata": {},
   "outputs": [],
   "source": [
    "#!pip install tweepy"
   ]
  },
  {
   "cell_type": "code",
   "execution_count": 2,
   "metadata": {},
   "outputs": [],
   "source": [
    "#!pip install dataset"
   ]
  },
  {
   "cell_type": "code",
   "execution_count": null,
   "metadata": {},
   "outputs": [],
   "source": [
    "#!pip install pandas"
   ]
  },
  {
   "cell_type": "code",
   "execution_count": 3,
   "metadata": {},
   "outputs": [],
   "source": [
    "import TwitterHandler as th"
   ]
  },
  {
   "cell_type": "markdown",
   "metadata": {},
   "source": [
    "<img src=\"TwitterAccount.JPG\" width=\"500px\" height =\"500px\" />"
   ]
  },
  {
   "cell_type": "code",
   "execution_count": 4,
   "metadata": {},
   "outputs": [],
   "source": [
    "API_Key = ''\n",
    "API_Secret_Key = ''\n",
    "Access_Token = ''\n",
    "Access_Token_Secret = ''\n",
    "# A database with assigned name will create in location of this jupyter with the .db extention\n",
    "# This database is Sqlite database you need to install this package\n",
    "DataBaseName = \"sample\"\n",
    "LANG = [\"en\"]\n",
    "Filter = [\"#coronavirus\", \"coronavirus\" , \"#Coronavirus\"]\n",
    "# this will put a cap on number of twitters that can be collected by the api\n",
    "# if assign to -1 you will remove the limitation\n",
    "Limit = 100\n",
    "# this will deactivate print each message that is collected\n",
    "# activate this just for test in practical collecting recommanded to be deactivate\n",
    "Verbos = False"
   ]
  },
  {
   "cell_type": "code",
   "execution_count": 5,
   "metadata": {},
   "outputs": [],
   "source": [
    "# Twitter Collection API\n",
    "TCA = th.Collect( API_Key , API_Secret_Key , Access_Token , Access_Token_Secret , DataBaseName,\n",
    "                LANG , Filter , Limit, Verbos)"
   ]
  },
  {
   "cell_type": "markdown",
   "metadata": {},
   "source": [
    "# !!! This function is a thread"
   ]
  },
  {
   "cell_type": "code",
   "execution_count": 6,
   "metadata": {},
   "outputs": [
    {
     "name": "stdout",
     "output_type": "stream",
     "text": [
      "sqlite:///sample.db\n",
      "Database is created\n",
      "API Connected to the twitter.\n",
      "Collecting started...\n",
      "Stream object already connected!\n",
      "Total number of 100 twitter collected.\n"
     ]
    }
   ],
   "source": [
    "TCA.start()"
   ]
  },
  {
   "cell_type": "markdown",
   "metadata": {},
   "source": [
    "# Convert the collected result to CSV"
   ]
  },
  {
   "cell_type": "code",
   "execution_count": 7,
   "metadata": {},
   "outputs": [],
   "source": [
    "TCA.to_csv('sample.csv')"
   ]
  },
  {
   "cell_type": "markdown",
   "metadata": {},
   "source": [
    "# Convert the collected result to Panda DataFrame"
   ]
  },
  {
   "cell_type": "code",
   "execution_count": 8,
   "metadata": {},
   "outputs": [],
   "source": [
    "df =  TCA.to_DataFrame()"
   ]
  },
  {
   "cell_type": "code",
   "execution_count": 9,
   "metadata": {},
   "outputs": [
    {
     "data": {
      "text/html": [
       "<div>\n",
       "<style scoped>\n",
       "    .dataframe tbody tr th:only-of-type {\n",
       "        vertical-align: middle;\n",
       "    }\n",
       "\n",
       "    .dataframe tbody tr th {\n",
       "        vertical-align: top;\n",
       "    }\n",
       "\n",
       "    .dataframe thead th {\n",
       "        text-align: right;\n",
       "    }\n",
       "</style>\n",
       "<table border=\"1\" class=\"dataframe\">\n",
       "  <thead>\n",
       "    <tr style=\"text-align: right;\">\n",
       "      <th></th>\n",
       "      <th>id</th>\n",
       "      <th>user_description</th>\n",
       "      <th>user_location</th>\n",
       "      <th>coordinates</th>\n",
       "      <th>orig_text</th>\n",
       "      <th>text</th>\n",
       "      <th>user_name</th>\n",
       "      <th>user_created</th>\n",
       "      <th>user_followers</th>\n",
       "      <th>id_str</th>\n",
       "      <th>created</th>\n",
       "      <th>retweet_count</th>\n",
       "      <th>hashtags</th>\n",
       "      <th>isretweet</th>\n",
       "      <th>istruncated</th>\n",
       "      <th>favoritecount</th>\n",
       "      <th>symbolval</th>\n",
       "      <th>sis</th>\n",
       "      <th>sie</th>\n",
       "    </tr>\n",
       "  </thead>\n",
       "  <tbody>\n",
       "    <tr>\n",
       "      <th>0</th>\n",
       "      <td>1</td>\n",
       "      <td>Mom to 3, Mimi to 6! Adore my http://family.Lo...</td>\n",
       "      <td>None</td>\n",
       "      <td>None</td>\n",
       "      <td>First, Trump says he alone will do the oversig...</td>\n",
       "      <td>First Trump says he alone will do the oversigh...</td>\n",
       "      <td>mimi_x4</td>\n",
       "      <td>2012-10-21 02:08:10.000000</td>\n",
       "      <td>3439</td>\n",
       "      <td>1245891417639174145</td>\n",
       "      <td>2020-04-03 01:50:36.000000</td>\n",
       "      <td>6693</td>\n",
       "      <td>[]</td>\n",
       "      <td>1</td>\n",
       "      <td>1</td>\n",
       "      <td>19814</td>\n",
       "      <td>nosymbol</td>\n",
       "      <td>-1</td>\n",
       "      <td>-1</td>\n",
       "    </tr>\n",
       "    <tr>\n",
       "      <th>1</th>\n",
       "      <td>2</td>\n",
       "      <td>None</td>\n",
       "      <td>None</td>\n",
       "      <td>None</td>\n",
       "      <td>The evidence is clear: Donald Trump ignored th...</td>\n",
       "      <td>The evidence is clear Donald Trump ignored the...</td>\n",
       "      <td>fairhope1212</td>\n",
       "      <td>2019-12-13 05:15:22.000000</td>\n",
       "      <td>26</td>\n",
       "      <td>1245891417756573698</td>\n",
       "      <td>2020-04-03 01:50:36.000000</td>\n",
       "      <td>4659</td>\n",
       "      <td>[]</td>\n",
       "      <td>1</td>\n",
       "      <td>1</td>\n",
       "      <td>13760</td>\n",
       "      <td>nosymbol</td>\n",
       "      <td>-1</td>\n",
       "      <td>-1</td>\n",
       "    </tr>\n",
       "    <tr>\n",
       "      <th>2</th>\n",
       "      <td>3</td>\n",
       "      <td>#NeverMyPres; #TheResistance  #VOTEBLUE2020\\nG...</td>\n",
       "      <td>United States</td>\n",
       "      <td>None</td>\n",
       "      <td>From what I can see, Capt. Crozier is a patrio...</td>\n",
       "      <td>From what I can see Capt Crozier is a patriot ...</td>\n",
       "      <td>cammac491</td>\n",
       "      <td>2016-10-10 00:42:14.000000</td>\n",
       "      <td>2634</td>\n",
       "      <td>1245891417576296448</td>\n",
       "      <td>2020-04-03 01:50:36.000000</td>\n",
       "      <td>1872</td>\n",
       "      <td>[]</td>\n",
       "      <td>1</td>\n",
       "      <td>1</td>\n",
       "      <td>5484</td>\n",
       "      <td>nosymbol</td>\n",
       "      <td>-1</td>\n",
       "      <td>-1</td>\n",
       "    </tr>\n",
       "    <tr>\n",
       "      <th>3</th>\n",
       "      <td>4</td>\n",
       "      <td>Boston Marriage Enthusiast, Former Frankfurt A...</td>\n",
       "      <td>Kansas City, MO</td>\n",
       "      <td>None</td>\n",
       "      <td>⚠️ER physicians like @DrRobDavidson will soon ...</td>\n",
       "      <td>ER physicians like  will soon face an gutwrenc...</td>\n",
       "      <td>1030bedtime</td>\n",
       "      <td>2016-02-27 03:09:25.000000</td>\n",
       "      <td>74</td>\n",
       "      <td>1245891417840508928</td>\n",
       "      <td>2020-04-03 01:50:36.000000</td>\n",
       "      <td>24</td>\n",
       "      <td>[]</td>\n",
       "      <td>1</td>\n",
       "      <td>1</td>\n",
       "      <td>31</td>\n",
       "      <td>nosymbol</td>\n",
       "      <td>-1</td>\n",
       "      <td>-1</td>\n",
       "    </tr>\n",
       "    <tr>\n",
       "      <th>4</th>\n",
       "      <td>5</td>\n",
       "      <td>I’ve been an Agoraphobic for over 15 years &amp; n...</td>\n",
       "      <td>London, England</td>\n",
       "      <td>None</td>\n",
       "      <td>Just 3% think British government is handling t...</td>\n",
       "      <td>Just 3 think British government is handling th...</td>\n",
       "      <td>realTreeHugs</td>\n",
       "      <td>2019-09-27 22:29:46.000000</td>\n",
       "      <td>527</td>\n",
       "      <td>1245891417920155648</td>\n",
       "      <td>2020-04-03 01:50:36.000000</td>\n",
       "      <td>49</td>\n",
       "      <td>[]</td>\n",
       "      <td>1</td>\n",
       "      <td>1</td>\n",
       "      <td>102</td>\n",
       "      <td>nosymbol</td>\n",
       "      <td>-1</td>\n",
       "      <td>-1</td>\n",
       "    </tr>\n",
       "  </tbody>\n",
       "</table>\n",
       "</div>"
      ],
      "text/plain": [
       "   id                                   user_description    user_location  \\\n",
       "0   1  Mom to 3, Mimi to 6! Adore my http://family.Lo...             None   \n",
       "1   2                                               None             None   \n",
       "2   3  #NeverMyPres; #TheResistance  #VOTEBLUE2020\\nG...    United States   \n",
       "3   4  Boston Marriage Enthusiast, Former Frankfurt A...  Kansas City, MO   \n",
       "4   5  I’ve been an Agoraphobic for over 15 years & n...  London, England   \n",
       "\n",
       "  coordinates                                          orig_text  \\\n",
       "0        None  First, Trump says he alone will do the oversig...   \n",
       "1        None  The evidence is clear: Donald Trump ignored th...   \n",
       "2        None  From what I can see, Capt. Crozier is a patrio...   \n",
       "3        None  ⚠️ER physicians like @DrRobDavidson will soon ...   \n",
       "4        None  Just 3% think British government is handling t...   \n",
       "\n",
       "                                                text     user_name  \\\n",
       "0  First Trump says he alone will do the oversigh...       mimi_x4   \n",
       "1  The evidence is clear Donald Trump ignored the...  fairhope1212   \n",
       "2  From what I can see Capt Crozier is a patriot ...     cammac491   \n",
       "3  ER physicians like  will soon face an gutwrenc...   1030bedtime   \n",
       "4  Just 3 think British government is handling th...  realTreeHugs   \n",
       "\n",
       "                 user_created  user_followers               id_str  \\\n",
       "0  2012-10-21 02:08:10.000000            3439  1245891417639174145   \n",
       "1  2019-12-13 05:15:22.000000              26  1245891417756573698   \n",
       "2  2016-10-10 00:42:14.000000            2634  1245891417576296448   \n",
       "3  2016-02-27 03:09:25.000000              74  1245891417840508928   \n",
       "4  2019-09-27 22:29:46.000000             527  1245891417920155648   \n",
       "\n",
       "                      created  retweet_count hashtags  isretweet  istruncated  \\\n",
       "0  2020-04-03 01:50:36.000000           6693       []          1            1   \n",
       "1  2020-04-03 01:50:36.000000           4659       []          1            1   \n",
       "2  2020-04-03 01:50:36.000000           1872       []          1            1   \n",
       "3  2020-04-03 01:50:36.000000             24       []          1            1   \n",
       "4  2020-04-03 01:50:36.000000             49       []          1            1   \n",
       "\n",
       "   favoritecount symbolval  sis  sie  \n",
       "0          19814  nosymbol   -1   -1  \n",
       "1          13760  nosymbol   -1   -1  \n",
       "2           5484  nosymbol   -1   -1  \n",
       "3             31  nosymbol   -1   -1  \n",
       "4            102  nosymbol   -1   -1  "
      ]
     },
     "execution_count": 9,
     "metadata": {},
     "output_type": "execute_result"
    }
   ],
   "source": [
    "df.head()"
   ]
  },
  {
   "cell_type": "markdown",
   "metadata": {},
   "source": [
    " # Advance To_csv : where follow the sql expression for where and you can filter the data by specific columns and value"
   ]
  },
  {
   "cell_type": "code",
   "execution_count": 11,
   "metadata": {},
   "outputs": [],
   "source": [
    "TCA.to_csv('sample_where.csv' , where = ' favoritecount > 50')"
   ]
  }
 ],
 "metadata": {
  "kernelspec": {
   "display_name": "pytorch",
   "language": "python",
   "name": "pythorch"
  },
  "language_info": {
   "codemirror_mode": {
    "name": "ipython",
    "version": 3
   },
   "file_extension": ".py",
   "mimetype": "text/x-python",
   "name": "python",
   "nbconvert_exporter": "python",
   "pygments_lexer": "ipython3",
   "version": "3.7.5"
  }
 },
 "nbformat": 4,
 "nbformat_minor": 2
}
