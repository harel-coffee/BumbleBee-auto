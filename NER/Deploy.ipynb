{
 "cells": [
  {
   "cell_type": "code",
   "execution_count": null,
   "metadata": {},
   "outputs": [],
   "source": [
    "import handlers as hd\n",
    "import os"
   ]
  },
  {
   "cell_type": "markdown",
   "metadata": {},
   "source": [
    "# Set the status of Model Handler to 'load'"
   ]
  },
  {
   "cell_type": "code",
   "execution_count": 2,
   "metadata": {},
   "outputs": [],
   "source": [
    "modelhandler = hd.ModelHandler('load',None)"
   ]
  },
  {
   "cell_type": "markdown",
   "metadata": {},
   "source": [
    "### modelhandler.load_model_predict(\n",
    "### model_name,\n",
    "### model_path,\n",
    "### data_path,\n",
    "### output_path_filename=None,\n",
    "### output_type='flat',\n",
    "### sentence_seperator='\\n',\n",
    "### map_location=0,\n",
    "### verbos=False,\n",
    "### )"
   ]
  },
  {
   "cell_type": "markdown",
   "metadata": {},
   "source": [
    "#### model_name  = it needs to be from this list 'rnn_two_crf_par' , 'rnn_two_crf', 'rnn_two_crf_seq' , 'rnn_two_crf_seq2', 'rnn_single_crf' also the check point should be compatible with the implemented model otherwise will raise an error \n",
    "\n",
    "### ---------------------------------------------------------------------------------------\n",
    "#### model_path = location of model exp: ../models/model.ckp\n",
    "    No restiction on extention of the file (ckp = check point)\n",
    "### ---------------------------------------------------------------------------------------\n",
    "#### data_path = location of test data\n",
    "### ---------------------------------------------------------------------------------------\n",
    "#### result_location = is the directory that we want to save the result of the rest this directory if is not exist will be generated\n",
    "### ---------------------------------------------------------------------------------------\n",
    "#### map_location = is an integer that let to assign the model to any gpu when you have multiple gpu (default is 0)\n",
    "### ---------------------------------------------------------------------------------------\n",
    "#### output_type = ['flat' , 'group']"
   ]
  },
  {
   "cell_type": "code",
   "execution_count": 3,
   "metadata": {
    "scrolled": true
   },
   "outputs": [
    {
     "name": "stdout",
     "output_type": "stream",
     "text": [
      "CUDA is avaiable : True\n",
      "Unavailable CUDA might cause an error.\n",
      "Model is mapped to : CUDA 0 ACTIVE-DEVICE to host the calculations : CUDA  0\n",
      "The difference between these two might cause an error. Please change the ACTIVE_DEVICE in util.py if it is necessary.\n",
      "loading models/Disease/model\n",
      "saved model: epoch = 500, loss = 0.005174\n",
      "{'UNIT': 'word', 'TASK': None, 'RNN_TYPE': 'LSTM', 'NUM_DIRS': 2, 'NUM_LAYERS': 10, 'BATCH_SIZE': 32, 'EMBED': {'char-rnn': 100}, 'HIDDEN_SIZE': 300, 'DROPOUT': 0.3, 'LEARNING_RATE': 0.0002, 'EVAL_EVERY': 10, 'SAVE_EVERY': 10, 'EPOCH': 500, 'model_name': 'rnn_two_crf_seq2', 'output_path': 'rnn_two_crf_seq2_char-rnn_NCBI-disease-IOB', 'EMBED_SIZE': 100, 'HRE': False}\n",
      "rnn_two_crf_seq2(\n",
      "  (rnn_ner): rnn(\n",
      "    (embed): embed(\n",
      "      (char_embed): rnn(\n",
      "        (embed): Embedding(62, 100, padding_idx=0)\n",
      "        (rnn): GRU(100, 50, num_layers=2, batch_first=True, dropout=0.3, bidirectional=True)\n",
      "      )\n",
      "    )\n",
      "    (rnn): LSTM(100, 150, num_layers=10, batch_first=True, dropout=0.3, bidirectional=True)\n",
      "    (out): Linear(in_features=300, out_features=5, bias=True)\n",
      "  )\n",
      "  (crfner): crf()\n",
      "  (rnn_iob): LSTM(5, 150, num_layers=10, batch_first=True, dropout=0.3, bidirectional=True)\n",
      "  (out): Linear(in_features=300, out_features=6, bias=True)\n",
      "  (crfiob): crf()\n",
      ")\n"
     ]
    }
   ],
   "source": [
    "modelhandler.load_model_predict('rnn_two_crf_seq',\n",
    "                            'models/Disease/model',\n",
    "                            'datasets/test.txt',\n",
    "                            'datasets/result_test',\n",
    "                            'flat',\n",
    "                            '\\n', 0, True)"
   ]
  },
  {
   "cell_type": "code",
   "execution_count": null,
   "metadata": {},
   "outputs": [],
   "source": []
  }
 ],
 "metadata": {
  "kernelspec": {
   "display_name": "pytorch",
   "language": "python",
   "name": "pythorch"
  },
  "language_info": {
   "codemirror_mode": {
    "name": "ipython",
    "version": 3
   },
   "file_extension": ".py",
   "mimetype": "text/x-python",
   "name": "python",
   "nbconvert_exporter": "python",
   "pygments_lexer": "ipython3",
   "version": "3.7.5"
  }
 },
 "nbformat": 4,
 "nbformat_minor": 4
}
