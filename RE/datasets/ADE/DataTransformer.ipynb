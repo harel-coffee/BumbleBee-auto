{
 "cells": [
  {
   "cell_type": "code",
   "execution_count": 174,
   "metadata": {},
   "outputs": [
    {
     "data": {
      "text/plain": [
       "<module 'utils' from 'C:\\\\Users\\\\Mohsen\\\\Dropbox\\\\Univertsity\\\\PHD_Research\\\\Papers\\\\Semantic Relation Extraction\\\\DataSets\\\\Annotated-Semantic-Relationships-Datasets\\\\datasets\\\\Important\\\\utils.py'>"
      ]
     },
     "execution_count": 174,
     "metadata": {},
     "output_type": "execute_result"
    }
   ],
   "source": [
    "import pandas as pd\n",
    "import os\n",
    "import re\n",
    "import PubMedHandler as pmh\n",
    "import utils\n",
    "import importlib\n",
    "importlib.reload(utils)"
   ]
  },
  {
   "cell_type": "code",
   "execution_count": 175,
   "metadata": {},
   "outputs": [],
   "source": [
    "database_location = 'ADE/data/ADE-Corpus-V2'"
   ]
  },
  {
   "cell_type": "code",
   "execution_count": 176,
   "metadata": {},
   "outputs": [
    {
     "data": {
      "text/html": [
       "<div>\n",
       "<style scoped>\n",
       "    .dataframe tbody tr th:only-of-type {\n",
       "        vertical-align: middle;\n",
       "    }\n",
       "\n",
       "    .dataframe tbody tr th {\n",
       "        vertical-align: top;\n",
       "    }\n",
       "\n",
       "    .dataframe thead th {\n",
       "        text-align: right;\n",
       "    }\n",
       "</style>\n",
       "<table border=\"1\" class=\"dataframe\">\n",
       "  <thead>\n",
       "    <tr style=\"text-align: right;\">\n",
       "      <th></th>\n",
       "      <th>PubMed-ID</th>\n",
       "      <th>Sentence</th>\n",
       "      <th>Adverse-Effect</th>\n",
       "      <th>Start_Offset_AE</th>\n",
       "      <th>End_Offset_AE</th>\n",
       "      <th>Drug</th>\n",
       "      <th>Start_Offset_Drug</th>\n",
       "      <th>End_Offset_Drug</th>\n",
       "    </tr>\n",
       "  </thead>\n",
       "  <tbody>\n",
       "    <tr>\n",
       "      <th>0</th>\n",
       "      <td>10030778</td>\n",
       "      <td>Intravenous azithromycin-induced ototoxicity.</td>\n",
       "      <td>ototoxicity</td>\n",
       "      <td>43</td>\n",
       "      <td>54</td>\n",
       "      <td>azithromycin</td>\n",
       "      <td>22</td>\n",
       "      <td>34</td>\n",
       "    </tr>\n",
       "    <tr>\n",
       "      <th>1</th>\n",
       "      <td>10048291</td>\n",
       "      <td>Immobilization, while Paget's bone disease was...</td>\n",
       "      <td>increased calcium-release</td>\n",
       "      <td>960</td>\n",
       "      <td>985</td>\n",
       "      <td>dihydrotachysterol</td>\n",
       "      <td>908</td>\n",
       "      <td>926</td>\n",
       "    </tr>\n",
       "    <tr>\n",
       "      <th>2</th>\n",
       "      <td>10048291</td>\n",
       "      <td>Unaccountable severe hypercalcemia in a patien...</td>\n",
       "      <td>hypercalcemia</td>\n",
       "      <td>31</td>\n",
       "      <td>44</td>\n",
       "      <td>dihydrotachysterol</td>\n",
       "      <td>94</td>\n",
       "      <td>112</td>\n",
       "    </tr>\n",
       "    <tr>\n",
       "      <th>3</th>\n",
       "      <td>10082597</td>\n",
       "      <td>METHODS: We report two cases of pseudoporphyri...</td>\n",
       "      <td>pseudoporphyria</td>\n",
       "      <td>620</td>\n",
       "      <td>635</td>\n",
       "      <td>naproxen</td>\n",
       "      <td>646</td>\n",
       "      <td>654</td>\n",
       "    </tr>\n",
       "    <tr>\n",
       "      <th>4</th>\n",
       "      <td>10082597</td>\n",
       "      <td>METHODS: We report two cases of pseudoporphyri...</td>\n",
       "      <td>pseudoporphyria</td>\n",
       "      <td>620</td>\n",
       "      <td>635</td>\n",
       "      <td>oxaprozin</td>\n",
       "      <td>659</td>\n",
       "      <td>668</td>\n",
       "    </tr>\n",
       "  </tbody>\n",
       "</table>\n",
       "</div>"
      ],
      "text/plain": [
       "   PubMed-ID                                           Sentence  \\\n",
       "0   10030778      Intravenous azithromycin-induced ototoxicity.   \n",
       "1   10048291  Immobilization, while Paget's bone disease was...   \n",
       "2   10048291  Unaccountable severe hypercalcemia in a patien...   \n",
       "3   10082597  METHODS: We report two cases of pseudoporphyri...   \n",
       "4   10082597  METHODS: We report two cases of pseudoporphyri...   \n",
       "\n",
       "              Adverse-Effect  Start_Offset_AE  End_Offset_AE  \\\n",
       "0                ototoxicity               43             54   \n",
       "1  increased calcium-release              960            985   \n",
       "2              hypercalcemia               31             44   \n",
       "3            pseudoporphyria              620            635   \n",
       "4            pseudoporphyria              620            635   \n",
       "\n",
       "                 Drug  Start_Offset_Drug  End_Offset_Drug  \n",
       "0        azithromycin                 22               34  \n",
       "1  dihydrotachysterol                908              926  \n",
       "2  dihydrotachysterol                 94              112  \n",
       "3            naproxen                646              654  \n",
       "4           oxaprozin                659              668  "
      ]
     },
     "execution_count": 176,
     "metadata": {},
     "output_type": "execute_result"
    }
   ],
   "source": [
    "table = 'DRUG-AE.rel'\n",
    "\n",
    "Column_names = ['PubMed-ID','Sentence','Adverse-Effect','Start_Offset_AE','End_Offset_AE','Drug',\n",
    "                'Start_Offset_Drug','End_Offset_Drug']\n",
    "\n",
    "Drug_AE = pd.read_csv(os.path.join(database_location,table) , sep='|', header=None, \n",
    "                     names= Column_names , index_col=False)\n",
    "\n",
    "Drug_AE.head()"
   ]
  },
  {
   "cell_type": "code",
   "execution_count": 177,
   "metadata": {},
   "outputs": [],
   "source": [
    "np_Drug_AE = Drug_AE.to_numpy()"
   ]
  },
  {
   "cell_type": "code",
   "execution_count": 178,
   "metadata": {},
   "outputs": [
    {
     "data": {
      "text/html": [
       "<div>\n",
       "<style scoped>\n",
       "    .dataframe tbody tr th:only-of-type {\n",
       "        vertical-align: middle;\n",
       "    }\n",
       "\n",
       "    .dataframe tbody tr th {\n",
       "        vertical-align: top;\n",
       "    }\n",
       "\n",
       "    .dataframe thead th {\n",
       "        text-align: right;\n",
       "    }\n",
       "</style>\n",
       "<table border=\"1\" class=\"dataframe\">\n",
       "  <thead>\n",
       "    <tr style=\"text-align: right;\">\n",
       "      <th></th>\n",
       "      <th>PubMed-ID</th>\n",
       "      <th>Sentence</th>\n",
       "      <th>Dose</th>\n",
       "      <th>Start_Offset_AE</th>\n",
       "      <th>End_Offset_AE</th>\n",
       "      <th>Drug</th>\n",
       "      <th>Start_Offset_Drug</th>\n",
       "      <th>End_Offset_Drug</th>\n",
       "    </tr>\n",
       "  </thead>\n",
       "  <tbody>\n",
       "    <tr>\n",
       "      <th>0</th>\n",
       "      <td>10327035</td>\n",
       "      <td>An episode of subacute encephalopathy after th...</td>\n",
       "      <td>1500 mg/m2</td>\n",
       "      <td>230</td>\n",
       "      <td>240</td>\n",
       "      <td>methotrexate</td>\n",
       "      <td>216</td>\n",
       "      <td>228</td>\n",
       "    </tr>\n",
       "    <tr>\n",
       "      <th>1</th>\n",
       "      <td>10452772</td>\n",
       "      <td>She continued to receive regular insulin 4 tim...</td>\n",
       "      <td>4 times per day</td>\n",
       "      <td>1473</td>\n",
       "      <td>1488</td>\n",
       "      <td>insulin</td>\n",
       "      <td>1465</td>\n",
       "      <td>1472</td>\n",
       "    </tr>\n",
       "    <tr>\n",
       "      <th>2</th>\n",
       "      <td>10458196</td>\n",
       "      <td>A 5-month-old infant became lethargic and poor...</td>\n",
       "      <td>1 drop</td>\n",
       "      <td>522</td>\n",
       "      <td>528</td>\n",
       "      <td>brimonidine</td>\n",
       "      <td>532</td>\n",
       "      <td>543</td>\n",
       "    </tr>\n",
       "    <tr>\n",
       "      <th>3</th>\n",
       "      <td>10667036</td>\n",
       "      <td>The presented patient was treated with 200 mg ...</td>\n",
       "      <td>200 mg</td>\n",
       "      <td>389</td>\n",
       "      <td>395</td>\n",
       "      <td>TCA</td>\n",
       "      <td>396</td>\n",
       "      <td>399</td>\n",
       "    </tr>\n",
       "    <tr>\n",
       "      <th>4</th>\n",
       "      <td>10698143</td>\n",
       "      <td>Central nervous system manifestations of an ib...</td>\n",
       "      <td>overdose</td>\n",
       "      <td>64</td>\n",
       "      <td>72</td>\n",
       "      <td>ibuprofen</td>\n",
       "      <td>54</td>\n",
       "      <td>63</td>\n",
       "    </tr>\n",
       "  </tbody>\n",
       "</table>\n",
       "</div>"
      ],
      "text/plain": [
       "   PubMed-ID                                           Sentence  \\\n",
       "0   10327035  An episode of subacute encephalopathy after th...   \n",
       "1   10452772  She continued to receive regular insulin 4 tim...   \n",
       "2   10458196  A 5-month-old infant became lethargic and poor...   \n",
       "3   10667036  The presented patient was treated with 200 mg ...   \n",
       "4   10698143  Central nervous system manifestations of an ib...   \n",
       "\n",
       "              Dose  Start_Offset_AE  End_Offset_AE          Drug  \\\n",
       "0       1500 mg/m2              230            240  methotrexate   \n",
       "1  4 times per day             1473           1488       insulin   \n",
       "2           1 drop              522            528   brimonidine   \n",
       "3           200 mg              389            395           TCA   \n",
       "4         overdose               64             72     ibuprofen   \n",
       "\n",
       "   Start_Offset_Drug  End_Offset_Drug  \n",
       "0                216              228  \n",
       "1               1465             1472  \n",
       "2                532              543  \n",
       "3                396              399  \n",
       "4                 54               63  "
      ]
     },
     "execution_count": 178,
     "metadata": {},
     "output_type": "execute_result"
    }
   ],
   "source": [
    "table = 'DRUG-DOSE.rel'\n",
    "Column_names = ['PubMed-ID','Sentence','Dose','Start_Offset_AE','End_Offset_AE','Drug',\n",
    "                'Start_Offset_Drug','End_Offset_Drug']\n",
    "Drug_Dose = pd.read_csv(os.path.join(database_location,table) , sep='|', header=None, \n",
    "                     names= Column_names , index_col=False)\n",
    "Drug_Dose.head()"
   ]
  },
  {
   "cell_type": "code",
   "execution_count": 179,
   "metadata": {},
   "outputs": [],
   "source": [
    "np_Drug_Dose = Drug_Dose.to_numpy()"
   ]
  },
  {
   "cell_type": "code",
   "execution_count": 180,
   "metadata": {},
   "outputs": [
    {
     "data": {
      "text/html": [
       "<div>\n",
       "<style scoped>\n",
       "    .dataframe tbody tr th:only-of-type {\n",
       "        vertical-align: middle;\n",
       "    }\n",
       "\n",
       "    .dataframe tbody tr th {\n",
       "        vertical-align: top;\n",
       "    }\n",
       "\n",
       "    .dataframe thead th {\n",
       "        text-align: right;\n",
       "    }\n",
       "</style>\n",
       "<table border=\"1\" class=\"dataframe\">\n",
       "  <thead>\n",
       "    <tr style=\"text-align: right;\">\n",
       "      <th></th>\n",
       "      <th>PubMed-ID</th>\n",
       "      <th>Sentence</th>\n",
       "    </tr>\n",
       "  </thead>\n",
       "  <tbody>\n",
       "    <tr>\n",
       "      <th>0</th>\n",
       "      <td>6460590</td>\n",
       "      <td>Clioquinol intoxication occurring in the treat...</td>\n",
       "    </tr>\n",
       "    <tr>\n",
       "      <th>1</th>\n",
       "      <td>8600337</td>\n",
       "      <td>\"Retinoic acid syndrome\" was prevented with sh...</td>\n",
       "    </tr>\n",
       "    <tr>\n",
       "      <th>2</th>\n",
       "      <td>8402502</td>\n",
       "      <td>BACKGROUND: External beam radiation therapy of...</td>\n",
       "    </tr>\n",
       "    <tr>\n",
       "      <th>3</th>\n",
       "      <td>8700794</td>\n",
       "      <td>Although the enuresis ceased, she developed th...</td>\n",
       "    </tr>\n",
       "    <tr>\n",
       "      <th>4</th>\n",
       "      <td>17662448</td>\n",
       "      <td>A 42-year-old woman had uneventful bilateral l...</td>\n",
       "    </tr>\n",
       "  </tbody>\n",
       "</table>\n",
       "</div>"
      ],
      "text/plain": [
       "  PubMed-ID                                           Sentence\n",
       "0   6460590  Clioquinol intoxication occurring in the treat...\n",
       "1   8600337  \"Retinoic acid syndrome\" was prevented with sh...\n",
       "2   8402502  BACKGROUND: External beam radiation therapy of...\n",
       "3   8700794  Although the enuresis ceased, she developed th...\n",
       "4  17662448  A 42-year-old woman had uneventful bilateral l..."
      ]
     },
     "execution_count": 180,
     "metadata": {},
     "output_type": "execute_result"
    }
   ],
   "source": [
    "table = 'ADE-NEG.txt'\n",
    "Column_names = ['PubMed-ID','Sentence']\n",
    "f = open(os.path.join(database_location,table) , 'r')\n",
    "neg_sentences = []\n",
    "for l in f:\n",
    "    pubmed_id , sentence = l.split('NEG')\n",
    "    neg_sentences.append([pubmed_id.strip(), sentence.strip()])\n",
    "ADE_NEG = pd.DataFrame(columns=Column_names , data=neg_sentences)\n",
    "ADE_NEG.head()"
   ]
  },
  {
   "cell_type": "markdown",
   "metadata": {},
   "source": [
    "# Uncomment this section if you want to collect the abstract from PubMed website"
   ]
  },
  {
   "cell_type": "code",
   "execution_count": null,
   "metadata": {},
   "outputs": [],
   "source": [
    "# pmc = pmh.Collect()\n",
    "\n",
    "# n = len(np_Drug_AE)\n",
    "\n",
    "# Unique_Pubid = {0}\n",
    "# for i in range(n):\n",
    "#     if np_Drug_AE[i][0] not in Unique_Pubid:\n",
    "#         pmc.getabstract(str(np_Drug_AE[i][0]))\n",
    "#         Unique_Pubid.update([np_Drug_AE[i][0]])\n",
    "#     print(\"%d   /%d     Unique PubId Proccessed : %d   \"%(i+1 , n , len(Unique_Pubid)-1 ) , end = '\\r')\n",
    "\n",
    "# pmc.to_csv('Drug_AE.csv','Metadata_Drug_AE.csv')"
   ]
  },
  {
   "cell_type": "markdown",
   "metadata": {},
   "source": [
    "# we run this for drug Dose to make sure all the abstracts are avaiable"
   ]
  },
  {
   "cell_type": "code",
   "execution_count": 40,
   "metadata": {},
   "outputs": [
    {
     "name": "stdout",
     "output_type": "stream",
     "text": [
      "279   /279     Unique PubId Proccessed : 168   \r"
     ]
    }
   ],
   "source": [
    "# pmc = pmh.Collect()\n",
    "\n",
    "# n = len(np_Drug_Dose)\n",
    "\n",
    "# Unique_Pubid = {0}\n",
    "# for i in range(n):\n",
    "#     if np_Drug_Dose[i][0] not in Unique_Pubid:\n",
    "#         pmc.getabstract(str(np_Drug_Dose[i][0]))\n",
    "#         Unique_Pubid.update([np_Drug_Dose[i][0]])\n",
    "#     print(\"%d   /%d     Unique PubId Proccessed : %d   \"%(i+1 , n , len(Unique_Pubid)-1 ) , end = '\\r')\n",
    "\n",
    "# pmc.to_csv('Drug_Dose.csv','Metadata_Drug_Dose.csv')"
   ]
  },
  {
   "cell_type": "code",
   "execution_count": 182,
   "metadata": {},
   "outputs": [
    {
     "name": "stdout",
     "output_type": "stream",
     "text": [
      "Abstracts is loaded\n"
     ]
    }
   ],
   "source": [
    "Abstracts = None\n",
    "if os.path.exists('Drug_AE.csv'):\n",
    "    Abstracts = pd.read_csv('Drug_AE.csv')\n",
    "    print('Abstracts is loaded')\n",
    "else:\n",
    "    print('To create the Drug_AE un comment the code above and let it run to crate the file for you')"
   ]
  },
  {
   "cell_type": "code",
   "execution_count": 183,
   "metadata": {},
   "outputs": [
    {
     "data": {
      "text/html": [
       "<div>\n",
       "<style scoped>\n",
       "    .dataframe tbody tr th:only-of-type {\n",
       "        vertical-align: middle;\n",
       "    }\n",
       "\n",
       "    .dataframe tbody tr th {\n",
       "        vertical-align: top;\n",
       "    }\n",
       "\n",
       "    .dataframe thead th {\n",
       "        text-align: right;\n",
       "    }\n",
       "</style>\n",
       "<table border=\"1\" class=\"dataframe\">\n",
       "  <thead>\n",
       "    <tr style=\"text-align: right;\">\n",
       "      <th></th>\n",
       "      <th>Unnamed: 0</th>\n",
       "      <th>pubmedID</th>\n",
       "      <th>ArticleTitle</th>\n",
       "      <th>AbstractText</th>\n",
       "      <th>PubYear</th>\n",
       "      <th>PubMonth</th>\n",
       "    </tr>\n",
       "  </thead>\n",
       "  <tbody>\n",
       "    <tr>\n",
       "      <th>0</th>\n",
       "      <td>0</td>\n",
       "      <td>10030778</td>\n",
       "      <td>Intravenous azithromycin-induced ototoxicity.</td>\n",
       "      <td>Intravenous azithromycin is increasingly admin...</td>\n",
       "      <td>1999</td>\n",
       "      <td>2</td>\n",
       "    </tr>\n",
       "    <tr>\n",
       "      <th>1</th>\n",
       "      <td>3</td>\n",
       "      <td>10048291</td>\n",
       "      <td>Unaccountable severe hypercalcemia in a patien...</td>\n",
       "      <td>This report describes a forty-seven-year-old f...</td>\n",
       "      <td>1999</td>\n",
       "      <td>1</td>\n",
       "    </tr>\n",
       "    <tr>\n",
       "      <th>2</th>\n",
       "      <td>4</td>\n",
       "      <td>10082597</td>\n",
       "      <td>Pseudoporphyria induced by propionic acid deri...</td>\n",
       "      <td>Pseudoporphyria is a photosensitive bullous sk...</td>\n",
       "      <td>1999</td>\n",
       "      <td>1</td>\n",
       "    </tr>\n",
       "    <tr>\n",
       "      <th>3</th>\n",
       "      <td>5</td>\n",
       "      <td>10084639</td>\n",
       "      <td>Olanzapine treatment after clozapine-induced g...</td>\n",
       "      <td>How to best treat psychotic patients who have ...</td>\n",
       "      <td>1999</td>\n",
       "      <td>2</td>\n",
       "    </tr>\n",
       "    <tr>\n",
       "      <th>4</th>\n",
       "      <td>6</td>\n",
       "      <td>10099659</td>\n",
       "      <td>Prolonged severe 5-fluorouracil-associated neu...</td>\n",
       "      <td>5-Fluorouracil (5-FU) is an analogue of pyrimi...</td>\n",
       "      <td>1999</td>\n",
       "      <td>0</td>\n",
       "    </tr>\n",
       "  </tbody>\n",
       "</table>\n",
       "</div>"
      ],
      "text/plain": [
       "   Unnamed: 0  pubmedID                                       ArticleTitle  \\\n",
       "0           0  10030778      Intravenous azithromycin-induced ototoxicity.   \n",
       "1           3  10048291  Unaccountable severe hypercalcemia in a patien...   \n",
       "2           4  10082597  Pseudoporphyria induced by propionic acid deri...   \n",
       "3           5  10084639  Olanzapine treatment after clozapine-induced g...   \n",
       "4           6  10099659  Prolonged severe 5-fluorouracil-associated neu...   \n",
       "\n",
       "                                        AbstractText  PubYear  PubMonth  \n",
       "0  Intravenous azithromycin is increasingly admin...     1999         2  \n",
       "1  This report describes a forty-seven-year-old f...     1999         1  \n",
       "2  Pseudoporphyria is a photosensitive bullous sk...     1999         1  \n",
       "3  How to best treat psychotic patients who have ...     1999         2  \n",
       "4  5-Fluorouracil (5-FU) is an analogue of pyrimi...     1999         0  "
      ]
     },
     "execution_count": 183,
     "metadata": {},
     "output_type": "execute_result"
    }
   ],
   "source": [
    "Abstracts.head()"
   ]
  },
  {
   "cell_type": "code",
   "execution_count": 185,
   "metadata": {},
   "outputs": [
    {
     "data": {
      "text/plain": [
       "'Intravenous azithromycin-induced ototoxicity. Intravenous azithromycin is increasingly administered for treatment of hospitalized patients with community-acquired pneumonia. Macrolide antibiotics cause ototoxicity, which occurs most frequently when high serum concentrations are achieved. Current dosing guidelines for intravenous azithromycin can result in much higher serum concentrations than is seen with oral administration. We describe a 47-year-old woman who developed complete deafness after receiving 8 days of intravenous azithromycin.'"
      ]
     },
     "execution_count": 185,
     "metadata": {},
     "output_type": "execute_result"
    }
   ],
   "source": [
    "Abstracts_np = Abstracts.to_numpy()\n",
    "#sample add the Title and Abstract\n",
    "Abstracts_np[0][2] + ' ' + Abstracts_np[0][3]"
   ]
  },
  {
   "cell_type": "code",
   "execution_count": 186,
   "metadata": {},
   "outputs": [
    {
     "data": {
      "text/plain": [
       "1642"
      ]
     },
     "execution_count": 186,
     "metadata": {},
     "output_type": "execute_result"
    }
   ],
   "source": [
    "len(Abstracts_np)"
   ]
  },
  {
   "cell_type": "markdown",
   "metadata": {},
   "source": [
    "### Structure of Sentences\n",
    "### pubmed_id , sentence , drug , effect \n",
    "### {'id': '', 'docid': '', 'relation': '', \n",
    "### 'token': [], \n",
    "### 'subj_start': -1, \n",
    "### 'subj_end': -1, \n",
    "### 'obj_start': -1, \n",
    "### 'obj_end': -1, \n",
    "###  'subj_type': '', \n",
    "### 'subj_positions' :[],\n",
    "### 'obj_type': '', \n",
    "### 'obj_positions' : [],\n",
    "###  'pos': [], \n",
    "###  'ner': []\n",
    "### }"
   ]
  },
  {
   "cell_type": "code",
   "execution_count": 187,
   "metadata": {},
   "outputs": [],
   "source": [
    "def get_relation(pubmedid , sentence , source):\n",
    "    \"\"\"\n",
    "    Returns:\n",
    "        subject : Drug , Object : Adverse Effect\n",
    "    \"\"\"\n",
    "    Relations = source[(source['PubMed-ID'] == pubmedid)]\n",
    "    # Structure of DRUG_AE\n",
    "    #PubMed-ID(0)\n",
    "    #Sentence(1)\n",
    "    #Adverse-Effect(2)\tStart_Offset_AE(3)\tEnd_Offset_AE(4) # start and end is wrong \n",
    "    #Drug(5)\tStart_Offset_Drug(6)\tEnd_Offset_Drug(7) # start and end is wrong\n",
    "    Relations_np = Relations.to_numpy()\n",
    "    try:\n",
    "        for i in range(len(Relations_np)):\n",
    "            tokens = utils.tokenize(sentence)\n",
    "            if sentence == utils.transform(Relations_np[i][1])[0]:\n",
    "                Drug_tokenize = utils.tokenize(utils.transform(Relations_np[i][5])[0])\n",
    "                AE_tokenize = utils.tokenize(utils.transform(Relations_np[i][2])[0])\n",
    "                subj_start , subj_end = -1, -1\n",
    "                if len(Drug_tokenize) == 2:\n",
    "                    subj_start = tokens.index(Drug_tokenize[0])\n",
    "                    subj_end = subj_start\n",
    "                else:\n",
    "                    subj_start = tokens.index(Drug_tokenize[0])\n",
    "                    subj_end = tokens.index(Drug_tokenize[-2])\n",
    "                obj_start , obj_end = -1, -1\n",
    "                if len(AE_tokenize) == 2:\n",
    "                    obj_start = tokens.index(AE_tokenize[0])\n",
    "                    obj_end = obj_start\n",
    "                else:\n",
    "                    obj_start = tokens.index(AE_tokenize[0])\n",
    "                    obj_end = tokens.index(AE_tokenize[-2])\n",
    "\n",
    "                # Drug , Adverse Effect\n",
    "                return Relations_np[i][5] , subj_start , subj_end, Relations_np[i][2] , obj_start , obj_end\n",
    "    except Exception as e:\n",
    "        print(pubmedid , sentence , e)\n",
    "    return None,-1,-1,None,-1,-1"
   ]
  },
  {
   "cell_type": "code",
   "execution_count": 188,
   "metadata": {},
   "outputs": [],
   "source": [
    "def get_neg_relation(pubmedid, sentence):\n",
    "    Relations = ADE_NEG[ADE_NEG['PubMed-ID'] == str(pubmedid)]\n",
    "    Relations_np = Relations.to_numpy()\n",
    "    for i in range(len(Relations_np)):\n",
    "        if sentence == utils.transform(Relations_np[i][1])[0]:\n",
    "            return 'no_drug_related'\n",
    "    return None"
   ]
  },
  {
   "cell_type": "code",
   "execution_count": 189,
   "metadata": {},
   "outputs": [],
   "source": [
    "def getNer(tokens , subj , obj , subj_start, subj_end,obj_start,obj_end):\n",
    "    ner = ['o']*len(tokens)\n",
    "    for i in range(subj_start,subj_end+1):\n",
    "        ner[i] = 'subj-'+subj\n",
    "    for i in range(obj_start,obj_end+1):\n",
    "        ner[i] = 'obj-'+obj\n",
    "    return ner"
   ]
  },
  {
   "cell_type": "code",
   "execution_count": 190,
   "metadata": {},
   "outputs": [],
   "source": [
    "def get_positions(start_idx, end_idx, length):\n",
    "    \"\"\" Get subj/obj position sequence. \"\"\"\n",
    "    return list(range(-start_idx, 0)) + [0]*(end_idx - start_idx + 1) + \\\n",
    "            list(range(1, length-end_idx))"
   ]
  },
  {
   "cell_type": "code",
   "execution_count": 191,
   "metadata": {},
   "outputs": [
    {
     "data": {
      "text/plain": [
       "<module 'handlers' from 'C:\\\\Users\\\\Mohsen\\\\Dropbox\\\\Univertsity\\\\PHD_Research\\\\Papers\\\\Semantic Relation Extraction\\\\DataSets\\\\Annotated-Semantic-Relationships-Datasets\\\\datasets\\\\Important\\\\handlers.py'>"
      ]
     },
     "execution_count": 191,
     "metadata": {},
     "output_type": "execute_result"
    }
   ],
   "source": [
    "import handlers as hl\n",
    "import importlib\n",
    "importlib.reload(hl)"
   ]
  },
  {
   "cell_type": "markdown",
   "metadata": {},
   "source": [
    "### Test the POS model is working correctly"
   ]
  },
  {
   "cell_type": "code",
   "execution_count": 192,
   "metadata": {},
   "outputs": [
    {
     "data": {
      "text/plain": [
       "[['dt', 'vbz', 'jj']]"
      ]
     },
     "execution_count": 192,
     "metadata": {},
     "output_type": "execute_result"
    }
   ],
   "source": [
    "mhl = hl.ModelHandler('load',None)\n",
    "pos_res = mhl.load_model_predict_text('rnn_single_crf',\n",
    "                      'POS/model',\n",
    "                      'this is test',verbos = False)\n",
    "\n",
    "pos_res.y1"
   ]
  },
  {
   "cell_type": "code",
   "execution_count": 193,
   "metadata": {},
   "outputs": [],
   "source": [
    "def Pos(sentence):\n",
    "    mhl = hl.ModelHandler('load',None)\n",
    "    pos_res = mhl.load_model_predict_text('rnn_single_crf',\n",
    "                          'POS/model',\n",
    "                          sentence,verbos = False)\n",
    "    return pos_res.y1"
   ]
  },
  {
   "cell_type": "code",
   "execution_count": 194,
   "metadata": {},
   "outputs": [
    {
     "name": "stdout",
     "output_type": "stream",
     "text": [
      "14684937 iatrogenic hypercalcemia due to vitamin d3 ointment ( 1 ,  24 (  oh ) 2d3 ) combined with thiazide diuretics in a case of psoriasis .  '1,24' is not in list\n",
      "16623611 the patient was enrolled in a weight - loss clinic , and his diabetes medications were adjusted .  'olanzapine' is not in list\n",
      "19299370 according to the naranjo et al .  'enoxaparin' is not in list\n",
      "7781845 we report a case of hypoglycaemia after mefloquine therapy ( 1 ,  500 mg over two days ) for severe gastrointestinal cryptosporidiasis in a cachectic aids patient with protracted diarrhoea .  '1,500' is not in list\n",
      "AE :3815    Dose :192   NEG: 6611 \r"
     ]
    }
   ],
   "source": [
    "Sentences = []\n",
    "# we need to access the dataframe of Drug_AE\n",
    "# make sure the Cell 5 it hase been executed\n",
    "Count_Dose , Count_AE, Count_NEG  = 0, 0, 0\n",
    "docs_relations = dict()\n",
    "for i in range(len(Abstracts_np)):\n",
    "    pubmed_id = Abstracts_np[i][1]\n",
    "    docs_relations[pubmed_id]  = {'NEG' : 0 , 'AE' : 0 , 'Dose' : 0 }\n",
    "    text = Abstracts_np[i][2] + '\\n' + Abstracts_np[i][3]\n",
    "    sentences = utils.transform(text)\n",
    "    for j,s in enumerate(sentences):\n",
    "        tokens = utils.tokenize(s)\n",
    "        pos_s = Pos(s)\n",
    "        drug , subj_start,subj_end , AE, obj_start, obj_end = get_relation(pubmed_id , s, Drug_AE)\n",
    "        if AE:\n",
    "            Count_AE +=1\n",
    "            docs_relations[pubmed_id]['AE'] +=1\n",
    "            print('AE :%d    Dose :%d   NEG: %d '%(Count_AE,Count_Dose,Count_NEG) , end = '\\r')\n",
    "            ner = getNer(tokens,'drug','AE',subj_start , subj_end , obj_start,obj_end)\n",
    "            l = len(tokens)\n",
    "            subj_positions = get_positions(subj_start, subj_end, l)\n",
    "            obj_positions = get_positions(obj_start, obj_end, l)\n",
    "            json_sentence = {'id': str(pubmed_id) + \"_\" + str(j), \n",
    "                         'docid': pubmed_id, \n",
    "                         'relation': AE ,\n",
    "                         'sentence' : s,\n",
    "                         'token': tokens, \n",
    "                         'subj_start': subj_start, \n",
    "                         'subj_end': subj_end, \n",
    "                         'obj_start': obj_start, \n",
    "                         'obj_end': obj_end, \n",
    "                         'subj_type': 'Drug:' + drug if drug else '',\n",
    "                         'subj_positions' :subj_positions ,\n",
    "                         'obj_type': 'AE', \n",
    "                         'obj_positions' : obj_positions,\n",
    "                         'pos': pos_s[0], \n",
    "                         'ner': ner}\n",
    "            Sentences.append(json_sentence)\n",
    "        drug , subj_start,subj_end , Dose, obj_start, obj_end = get_relation(pubmed_id , s, Drug_Dose)\n",
    "        if Dose:\n",
    "            Count_Dose +=1\n",
    "            docs_relations[pubmed_id]['Dose'] +=1\n",
    "            print('AE :%d    Dose :%d   NEG: %d '%(Count_AE,Count_Dose,Count_NEG) , end = '\\r')\n",
    "            ner = getNer(tokens,'drug','Dose',subj_start , subj_end , obj_start,obj_end)\n",
    "            l = len(tokens)\n",
    "            subj_positions = get_positions(subj_start, subj_end, l)\n",
    "            obj_positions = get_positions(obj_start, obj_end, l)\n",
    "            json_sentence = {'id': str(pubmed_id) + \"_\" + str(j), \n",
    "                         'docid': pubmed_id, \n",
    "                         'relation': Dose,\n",
    "                         'sentence' : s,\n",
    "                         'token': tokens, \n",
    "                         'subj_start': subj_start, \n",
    "                         'subj_end': subj_end, \n",
    "                         'obj_start': obj_start, \n",
    "                         'obj_end': obj_end, \n",
    "                         'subj_type': 'Drug:' + drug if drug else '', \n",
    "                         'subj_positions' :subj_positions ,\n",
    "                         'obj_type': 'Dose',\n",
    "                         'obj_positions' : obj_positions,\n",
    "                         'pos': pos_s[0], \n",
    "                         'ner': ner}\n",
    "            Sentences.append(json_sentence)\n",
    "        if not Dose and not AE:\n",
    "            if get_neg_relation(pubmed_id,s):\n",
    "                Count_NEG+=1\n",
    "                docs_relations[pubmed_id]['NEG'] +=1\n",
    "                print('AE :%d    Dose :%d   NEG: %d '%(Count_AE,Count_Dose,Count_NEG) , end = '\\r')\n",
    "                json_sentence = {'id': str(pubmed_id) + \"_\" + str(j), \n",
    "                         'docid': pubmed_id, \n",
    "                         'relation': 'NEG',\n",
    "                         'sentence' : s,\n",
    "                         'token': tokens, \n",
    "                         'subj_start': -1, \n",
    "                         'subj_end': -1, \n",
    "                         'obj_start': -1, \n",
    "                         'obj_end': -1, \n",
    "                         'subj_type': '', \n",
    "                         'subj_positions' :[] ,\n",
    "                         'obj_type': '',\n",
    "                         'obj_positions' : [],\n",
    "                         'pos': pos_s[0], \n",
    "                         'ner': ['o']*len(tokens)}\n",
    "                Sentences.append(json_sentence)"
   ]
  },
  {
   "cell_type": "code",
   "execution_count": 195,
   "metadata": {},
   "outputs": [
    {
     "data": {
      "text/plain": [
       "10618"
      ]
     },
     "execution_count": 195,
     "metadata": {},
     "output_type": "execute_result"
    }
   ],
   "source": [
    "len(Sentences)"
   ]
  },
  {
   "cell_type": "code",
   "execution_count": 196,
   "metadata": {},
   "outputs": [
    {
     "data": {
      "text/plain": [
       "{'id': '10030778_1',\n",
       " 'docid': 10030778,\n",
       " 'relation': 'NEG',\n",
       " 'sentence': 'intravenous azithromycin is increasingly administered for treatment of hospitalized patients with community - acquired pneumonia . ',\n",
       " 'token': ['intravenous',\n",
       "  'azithromycin',\n",
       "  'is',\n",
       "  'increasingly',\n",
       "  'administered',\n",
       "  'for',\n",
       "  'treatment',\n",
       "  'of',\n",
       "  'hospitalized',\n",
       "  'patients',\n",
       "  'with',\n",
       "  'community',\n",
       "  '-',\n",
       "  'acquired',\n",
       "  'pneumonia',\n",
       "  '.'],\n",
       " 'subj_start': -1,\n",
       " 'subj_end': -1,\n",
       " 'obj_start': -1,\n",
       " 'obj_end': -1,\n",
       " 'subj_type': '',\n",
       " 'subj_positions': [],\n",
       " 'obj_type': '',\n",
       " 'obj_positions': [],\n",
       " 'pos': ['jj',\n",
       "  'nn',\n",
       "  'vbz',\n",
       "  'rb',\n",
       "  'vbn',\n",
       "  'in',\n",
       "  'nn',\n",
       "  'in',\n",
       "  'cd',\n",
       "  'nns',\n",
       "  'in',\n",
       "  'rb',\n",
       "  'prp',\n",
       "  'vbn',\n",
       "  'nns',\n",
       "  '(',\n",
       "  'nn'],\n",
       " 'ner': ['o',\n",
       "  'o',\n",
       "  'o',\n",
       "  'o',\n",
       "  'o',\n",
       "  'o',\n",
       "  'o',\n",
       "  'o',\n",
       "  'o',\n",
       "  'o',\n",
       "  'o',\n",
       "  'o',\n",
       "  'o',\n",
       "  'o',\n",
       "  'o',\n",
       "  'o']}"
      ]
     },
     "execution_count": 196,
     "metadata": {},
     "output_type": "execute_result"
    }
   ],
   "source": [
    "Sentences[1]"
   ]
  },
  {
   "cell_type": "code",
   "execution_count": 197,
   "metadata": {},
   "outputs": [
    {
     "data": {
      "text/plain": [
       "1642"
      ]
     },
     "execution_count": 197,
     "metadata": {},
     "output_type": "execute_result"
    }
   ],
   "source": [
    "len(docs_relations)"
   ]
  },
  {
   "cell_type": "code",
   "execution_count": 198,
   "metadata": {},
   "outputs": [
    {
     "name": "stdout",
     "output_type": "stream",
     "text": [
      "Docs Relations is loaded\n"
     ]
    }
   ],
   "source": [
    "if os.path.exists('docs_relations.csv'):\n",
    "    docs_relations_df =  pd.read_csv('docs_relations.csv')\n",
    "    docs_relations_df.set_index('pubmedid',inplace = True)\n",
    "    print('Docs Relations is loaded')\n",
    "else:\n",
    "    docs_relations_df = pd.DataFrame.from_dict(docs_relations , orient='index')\n",
    "    docs_relations_df.to_csv('docs_relations.csv' , columns= ['pubmedid','NEG','AE','Dose'])\n",
    "    print('Docs Relations created and saved in docs_relations.csv')"
   ]
  },
  {
   "cell_type": "code",
   "execution_count": 199,
   "metadata": {},
   "outputs": [
    {
     "data": {
      "text/plain": [
       "(1642, 3)"
      ]
     },
     "execution_count": 199,
     "metadata": {},
     "output_type": "execute_result"
    }
   ],
   "source": [
    "docs_relations_df.shape"
   ]
  },
  {
   "cell_type": "code",
   "execution_count": 200,
   "metadata": {},
   "outputs": [],
   "source": [
    "import matplotlib.pyplot as plt\n",
    "import numpy as np\n",
    "import random"
   ]
  },
  {
   "cell_type": "code",
   "execution_count": 201,
   "metadata": {},
   "outputs": [],
   "source": [
    "def draw_chart_get_np(df , column , ax , xlabel , ylabel, tick = None):\n",
    "    data = [[x,y] for x , y in df[column].value_counts().items()] \n",
    "    np_data = np.asarray(data)\n",
    "    #print(df[column].value_counts())\n",
    "    ax.bar(np_data[:,0] , np_data[:,1])\n",
    "    if tick is not None:\n",
    "        ax.set_xticks(tick)\n",
    "    ax.set_xlabel(xlabel)\n",
    "    ax.set_ylabel(ylabel)\n",
    "    ax.grid( ls = '-.', lw = 0.25,axis='y' , zorder = -1)\n",
    "    return np_data"
   ]
  },
  {
   "cell_type": "code",
   "execution_count": 202,
   "metadata": {},
   "outputs": [],
   "source": [
    "def split_data(mode , np_data , original_df, columnname  , percentage):\n",
    "    \"\"\"\n",
    "    Send an numpy array of the data to split\n",
    "    make sure the original dataframe have an eligible index\n",
    "    \"\"\"\n",
    "    curr_random_state = random.randint(1,50)\n",
    "    splited_data = []\n",
    "    for i in np_data:\n",
    "        splited_data.append([i[0] , int(i[1]*percentage)])\n",
    "        i[1] = i[1] - int(i[1]*percentage)\n",
    "    splited_df = []\n",
    "    print('Original size :' , original_df.shape)\n",
    "    for c in splited_data:\n",
    "        filtered_df = original_df[original_df[columnname] == c[0]]\n",
    "        devel = filtered_df.sample(n = c[1], random_state = curr_random_state)\n",
    "        pubmed_values = devel.index.values.tolist()\n",
    "        original_df.drop(pubmed_values ,  inplace = True)\n",
    "        splited_df.append(devel)\n",
    "    devel = pd.concat(splited_df)\n",
    "    print(mode + ' size :' , devel.shape)\n",
    "    print('Original size (after remove) :' , original_df.shape)\n",
    "    return original_df , devel "
   ]
  },
  {
   "cell_type": "code",
   "execution_count": 203,
   "metadata": {
    "scrolled": false
   },
   "outputs": [
    {
     "data": {
      "image/png": "[encoded data removed]",
      "text/plain": [
       "<Figure size 1080x288 with 3 Axes>"
      ]
     },
     "metadata": {
      "needs_background": "light"
     },
     "output_type": "display_data"
    }
   ],
   "source": [
    "fig , axs = plt.subplots(1,3 , figsize=(15,4) , constrained_layout=True)\n",
    "np_data_AE   =draw_chart_get_np(docs_relations_df , 'AE' ,axs[0], 'Number of AE for a Document' ,'Number of Document')\n",
    "np_data_Dose   =draw_chart_get_np(docs_relations_df , 'Dose' ,axs[1] ,'Number of Dose for a Document' ,'Number of Document'  )\n",
    "np_data_NEG   =draw_chart_get_np(docs_relations_df , 'NEG' , axs[2] ,'Number of Neg for a Document' ,'Number of Document', np.arange(0,20,1))\n"
   ]
  },
  {
   "cell_type": "code",
   "execution_count": 204,
   "metadata": {},
   "outputs": [
    {
     "name": "stdout",
     "output_type": "stream",
     "text": [
      "Original size : (1642, 3)\n",
      "devel size : (162, 3)\n",
      "Original size (after remove) : (1480, 3)\n"
     ]
    }
   ],
   "source": [
    "docs_relations_df , devel_df = split_data('devel' , np_data_AE , docs_relations_df , 'AE' , 0.1)"
   ]
  },
  {
   "cell_type": "code",
   "execution_count": 205,
   "metadata": {},
   "outputs": [
    {
     "data": {
      "image/png": "[encoded data removed]",
      "text/plain": [
       "<Figure size 1080x288 with 3 Axes>"
      ]
     },
     "metadata": {
      "needs_background": "light"
     },
     "output_type": "display_data"
    }
   ],
   "source": [
    "fig , axs = plt.subplots(1,3 , figsize=(15,4) , constrained_layout=True)\n",
    "np_data_AE   =draw_chart_get_np(docs_relations_df , 'AE' ,axs[0], 'Number of AE for a Document' ,'Number of Document')\n",
    "np_data_Dose   =draw_chart_get_np(docs_relations_df , 'Dose' ,axs[1] ,'Number of Dose for a Document' ,'Number of Document'  )\n",
    "np_data_NEG   =draw_chart_get_np(docs_relations_df , 'NEG' , axs[2] ,'Number of Neg for a Document' ,'Number of Document', np.arange(0,20,1))"
   ]
  },
  {
   "cell_type": "code",
   "execution_count": 206,
   "metadata": {},
   "outputs": [
    {
     "data": {
      "image/png": "[encoded data removed]",
      "text/plain": [
       "<Figure size 1080x288 with 3 Axes>"
      ]
     },
     "metadata": {
      "needs_background": "light"
     },
     "output_type": "display_data"
    }
   ],
   "source": [
    "fig , axs = plt.subplots(1,3 , figsize=(15,4) , constrained_layout=True)\n",
    "_ = draw_chart_get_np(devel_df , 'AE' ,axs[0], 'Number of AE for a Document' ,'Number of Document')\n",
    "_ = draw_chart_get_np(devel_df , 'Dose' ,axs[1] ,'Number of Dose for a Document' ,'Number of Document'  )\n",
    "_ = draw_chart_get_np(devel_df , 'NEG' , axs[2] ,'Number of Neg for a Document' ,'Number of Document', np.arange(0,20,1))\n"
   ]
  },
  {
   "cell_type": "code",
   "execution_count": 207,
   "metadata": {},
   "outputs": [
    {
     "name": "stdout",
     "output_type": "stream",
     "text": [
      "Original size : (1480, 3)\n",
      "test size : (292, 3)\n",
      "Original size (after remove) : (1188, 3)\n"
     ]
    }
   ],
   "source": [
    "docs_relations_df , test_df = split_data('test' , np_data_AE , docs_relations_df , 'AE' , 0.2)"
   ]
  },
  {
   "cell_type": "code",
   "execution_count": 208,
   "metadata": {},
   "outputs": [
    {
     "data": {
      "image/png": "[encoded data removed]",
      "text/plain": [
       "<Figure size 1080x288 with 3 Axes>"
      ]
     },
     "metadata": {
      "needs_background": "light"
     },
     "output_type": "display_data"
    }
   ],
   "source": [
    "fig , axs = plt.subplots(1,3 , figsize=(15,4) , constrained_layout=True)\n",
    "np_data_AE   =draw_chart_get_np(docs_relations_df , 'AE' ,axs[0], 'Number of AE for a Document' ,'Number of Document')\n",
    "np_data_Dose   =draw_chart_get_np(docs_relations_df , 'Dose' ,axs[1] ,'Number of Dose for a Document' ,'Number of Document'  )\n",
    "np_data_NEG   =draw_chart_get_np(docs_relations_df , 'NEG' , axs[2] ,'Number of Neg for a Document' ,'Number of Document', np.arange(0,20,1))"
   ]
  },
  {
   "cell_type": "code",
   "execution_count": 209,
   "metadata": {},
   "outputs": [
    {
     "data": {
      "image/png": "[encoded data removed]",
      "text/plain": [
       "<Figure size 1080x288 with 3 Axes>"
      ]
     },
     "metadata": {
      "needs_background": "light"
     },
     "output_type": "display_data"
    }
   ],
   "source": [
    "fig , axs = plt.subplots(1,3 , figsize=(15,4) , constrained_layout=True)\n",
    "_ = draw_chart_get_np(test_df , 'AE' ,axs[0], 'Number of AE for a Document' ,'Number of Document')\n",
    "_ = draw_chart_get_np(test_df , 'Dose' ,axs[1] ,'Number of Dose for a Document' ,'Number of Document'  )\n",
    "_ = draw_chart_get_np(test_df , 'NEG' , axs[2] ,'Number of Neg for a Document' ,'Number of Document', np.arange(0,20,1))\n"
   ]
  },
  {
   "cell_type": "code",
   "execution_count": 210,
   "metadata": {},
   "outputs": [
    {
     "name": "stdout",
     "output_type": "stream",
     "text": [
      "1188\n",
      "162\n",
      "292\n"
     ]
    }
   ],
   "source": [
    "train_ids = docs_relations_df.index.values.tolist()\n",
    "print(len(train_ids))\n",
    "devel_ids = devel_df.index.values.tolist()\n",
    "print(len(devel_ids))\n",
    "test_ids = test_df.index.values.tolist()\n",
    "print(len(test_ids))"
   ]
  },
  {
   "cell_type": "markdown",
   "metadata": {},
   "source": [
    "###  Sanity check that these sets are exactly unique"
   ]
  },
  {
   "cell_type": "code",
   "execution_count": 211,
   "metadata": {},
   "outputs": [
    {
     "name": "stdout",
     "output_type": "stream",
     "text": [
      "0\n",
      "0\n",
      "0\n"
     ]
    }
   ],
   "source": [
    "print(len(set.intersection(set(devel_ids) , set(test_ids))))\n",
    "print(len(set.intersection(set(devel_ids) , set(train_ids))))\n",
    "print(len(set.intersection(set(test_ids) , set(train_ids))))"
   ]
  },
  {
   "cell_type": "code",
   "execution_count": 213,
   "metadata": {},
   "outputs": [
    {
     "data": {
      "text/plain": [
       "{'id': '10030778_0',\n",
       " 'docid': 10030778,\n",
       " 'relation': 'ototoxicity',\n",
       " 'sentence': 'intravenous azithromycin - induced ototoxicity . ',\n",
       " 'token': ['intravenous', 'azithromycin', '-', 'induced', 'ototoxicity', '.'],\n",
       " 'subj_start': 1,\n",
       " 'subj_end': 1,\n",
       " 'obj_start': 4,\n",
       " 'obj_end': 4,\n",
       " 'subj_type': 'Drug:azithromycin',\n",
       " 'subj_positions': [-1, 0, 1, 2, 3, 4],\n",
       " 'obj_type': 'AE',\n",
       " 'obj_positions': [-4, -3, -2, -1, 0, 1],\n",
       " 'pos': ['rbr', 'rb', 'prp', 'vbd', 'nn', '.', 'cd'],\n",
       " 'ner': ['o', 'subj-drug', 'o', 'o', 'obj-AE', 'o']}"
      ]
     },
     "execution_count": 213,
     "metadata": {},
     "output_type": "execute_result"
    }
   ],
   "source": [
    "Sentences[0]"
   ]
  },
  {
   "cell_type": "code",
   "execution_count": 215,
   "metadata": {},
   "outputs": [],
   "source": [
    "devel , test , train = [] , [] , []\n",
    "for s in Sentences:\n",
    "    if s['docid'] in devel_ids:\n",
    "        devel.append(s)\n",
    "    elif s['docid'] in test_ids:\n",
    "        test.append(s)\n",
    "    elif s['docid'] in train_ids:\n",
    "        train.append(s)"
   ]
  },
  {
   "cell_type": "code",
   "execution_count": 216,
   "metadata": {},
   "outputs": [
    {
     "name": "stdout",
     "output_type": "stream",
     "text": [
      "1840\n",
      "1050\n",
      "7728\n"
     ]
    }
   ],
   "source": [
    "print(len(test))\n",
    "print(len(devel))\n",
    "print(len(train))"
   ]
  },
  {
   "cell_type": "code",
   "execution_count": 221,
   "metadata": {},
   "outputs": [],
   "source": [
    "import json"
   ]
  },
  {
   "cell_type": "code",
   "execution_count": 223,
   "metadata": {},
   "outputs": [],
   "source": [
    "with open('test.json' , 'w') as test_json:\n",
    "    json.dump(test,test_json)"
   ]
  },
  {
   "cell_type": "code",
   "execution_count": 224,
   "metadata": {},
   "outputs": [],
   "source": [
    "with open('devel.json', 'w') as devel_json:\n",
    "    json.dump(devel,devel_json)"
   ]
  },
  {
   "cell_type": "code",
   "execution_count": 225,
   "metadata": {},
   "outputs": [],
   "source": [
    "with open('train.json', 'w') as train_json:\n",
    "    json.dump(train,train_json)"
   ]
  },
  {
   "cell_type": "code",
   "execution_count": null,
   "metadata": {},
   "outputs": [],
   "source": []
  }
 ],
 "metadata": {
  "kernelspec": {
   "display_name": "pytorch",
   "language": "python",
   "name": "pythorch"
  },
  "language_info": {
   "codemirror_mode": {
    "name": "ipython",
    "version": 3
   },
   "file_extension": ".py",
   "mimetype": "text/x-python",
   "name": "python",
   "nbconvert_exporter": "python",
   "pygments_lexer": "ipython3",
   "version": "3.7.5"
  }
 },
 "nbformat": 4,
 "nbformat_minor": 2
}
